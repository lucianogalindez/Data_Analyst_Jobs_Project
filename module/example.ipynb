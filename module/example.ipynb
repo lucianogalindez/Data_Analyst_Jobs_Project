{
 "cells": [
  {
   "cell_type": "code",
   "execution_count": 6,
   "metadata": {},
   "outputs": [],
   "source": [
    "import pandas as pd\n",
    "import os\n",
    "import numpy as np\n",
    "import matplotlib.pyplot as plt\n",
    "from google.cloud import bigquery\n",
    "import datetime as dt\n",
    "# pip install nltk\n",
    "import nltk\n",
    "from nltk.tokenize import word_tokenize, MWETokenizer"
   ]
  },
  {
   "cell_type": "code",
   "execution_count": 17,
   "metadata": {},
   "outputs": [],
   "source": [
    "jobs_all = pd.read_csv('./jobs.csv').replace(\"'\",\"\",regex=True)\n",
    "jobs_all.drop(labels=['index', 'Unnamed: 0'], axis=1, errors='ignore', inplace=True)\n",
    "jobs_all['date_time'] = pd.to_datetime(jobs_all['date_time'])\n",
    "\n",
    "# job.description_tokens = job.description_tokens.str.strip(\"[]\").str.split(\",\")\n"
   ]
  },
  {
   "cell_type": "code",
   "execution_count": 18,
   "metadata": {},
   "outputs": [
    {
     "name": "stdout",
     "output_type": "stream",
     "text": [
      "Big Query Statistics:\n",
      "---------------------\n",
      "🚣‍♀️ Rows of data: 1343\n",
      "Number of jobs repeated: 135\n",
      "Rows of data after removing duplicates: 1208\n",
      "❌ Missing data for following dates:\n",
      "2022-12-18\n",
      "2022-12-21\n",
      "2022-12-24\n",
      "🧑‍💻 Average number of jobs per day: 86\n",
      "📆 Collecting data for 14 days now...\n"
     ]
    }
   ],
   "source": [
    "print('Big Query Statistics:')\n",
    "print('---------------------')\n",
    "print(f'🚣‍♀️ Rows of data: {len(jobs_all)}')\n",
    "\n",
    "repeat_jobs = jobs_all['job_id'].value_counts()\n",
    "repeat_jobs = repeat_jobs[repeat_jobs > 1]\n",
    "\n",
    "print(f'Number of jobs repeated: {len(repeat_jobs)}')\n",
    "\n",
    "jobs_all = jobs_all.drop_duplicates(subset='job_id')\n",
    "\n",
    "print(f'Rows of data after removing duplicates: {len(jobs_all)}')\n",
    "\n",
    "###################################\n",
    "\n",
    "first_date = jobs_all['date_time'].dt.date.min()\n",
    "today_date = dt.date.today()\n",
    "\n",
    "date_count = pd.DataFrame(jobs_all['date_time'].dt.date.value_counts())\n",
    "\n",
    "missing_dates = list(pd.date_range(start=first_date, end=today_date).difference(date_count.index))\n",
    "\n",
    "if len(missing_dates) > 0:\n",
    "    print(\"❌ Missing data for following dates:\")\n",
    "    for date in missing_dates:\n",
    "        print(date.date())\n",
    "else:\n",
    "    print(f'✅ No missing dates of data since inception of: {first_date}\"')\n",
    "\n",
    "delta_days = (today_date - first_date).days\n",
    "jobs_day = round(len(jobs_all) / delta_days)\n",
    "\n",
    "print(f\"🧑‍💻 Average number of jobs per day: {jobs_day}\")\n",
    "print(f\"📆 Collecting data for {delta_days} days now...\")"
   ]
  }
 ],
 "metadata": {
  "kernelspec": {
   "display_name": "Python 3.10.8 64-bit",
   "language": "python",
   "name": "python3"
  },
  "language_info": {
   "codemirror_mode": {
    "name": "ipython",
    "version": 3
   },
   "file_extension": ".py",
   "mimetype": "text/x-python",
   "name": "python",
   "nbconvert_exporter": "python",
   "pygments_lexer": "ipython3",
   "version": "3.10.8"
  },
  "orig_nbformat": 4,
  "vscode": {
   "interpreter": {
    "hash": "3bd13bc16400e16874b7ce28af58a129343287e94248a182c1f06fbb6b76ef8e"
   }
  }
 },
 "nbformat": 4,
 "nbformat_minor": 2
}
