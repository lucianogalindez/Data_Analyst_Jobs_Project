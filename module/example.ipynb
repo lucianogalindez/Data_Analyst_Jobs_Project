{
 "cells": [
  {
   "cell_type": "code",
   "execution_count": 1,
   "metadata": {},
   "outputs": [],
   "source": [
    "import pandas as pd\n",
    "import os\n",
    "import numpy as np\n",
    "import matplotlib.pyplot as plt\n",
    "from google.cloud import bigquery\n",
    "# pip install nltk\n",
    "import nltk\n",
    "from nltk.tokenize import word_tokenize, MWETokenizer"
   ]
  },
  {
   "cell_type": "code",
   "execution_count": 42,
   "metadata": {},
   "outputs": [],
   "source": [
    "jobs_all = pd.read_csv('./jobs.csv').replace(\"'\",\"\",regex=True)\n",
    "jobs_all.drop(labels=['index', 'Unnamed: 0'], axis=1, errors='ignore', inplace=True)\n",
    "\n",
    "# job.description_tokens = job.description_tokens.str.strip(\"[]\").str.split(\",\")\n"
   ]
  },
  {
   "cell_type": "code",
   "execution_count": 43,
   "metadata": {},
   "outputs": [
    {
     "name": "stdout",
     "output_type": "stream",
     "text": [
      "Big Query Statistics:\n",
      "---------------------\n",
      "🚣‍♀️ Rows of data: 523\n",
      "Number jobs repeated: 0\n"
     ]
    }
   ],
   "source": [
    "print('Big Query Statistics:')\n",
    "print('---------------------')\n",
    "print(f'🚣‍♀️ Rows of data: {len(jobs_all)}')\n",
    "\n",
    "repeat_jobs = jobs_all['job_id'].value_counts()\n",
    "repeat_jobs = repeat_jobs[repeat_jobs > 1]\n",
    "\n",
    "print(f'Number jobs repeated: {len(repeat_jobs)}')\n",
    "\n"
   ]
  }
 ],
 "metadata": {
  "kernelspec": {
   "display_name": "Python 3.10.8 64-bit",
   "language": "python",
   "name": "python3"
  },
  "language_info": {
   "codemirror_mode": {
    "name": "ipython",
    "version": 3
   },
   "file_extension": ".py",
   "mimetype": "text/x-python",
   "name": "python",
   "nbconvert_exporter": "python",
   "pygments_lexer": "ipython3",
   "version": "3.10.8"
  },
  "orig_nbformat": 4,
  "vscode": {
   "interpreter": {
    "hash": "3bd13bc16400e16874b7ce28af58a129343287e94248a182c1f06fbb6b76ef8e"
   }
  }
 },
 "nbformat": 4,
 "nbformat_minor": 2
}
